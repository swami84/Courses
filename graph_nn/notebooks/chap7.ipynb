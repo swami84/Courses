{
 "cells": [
  {
   "cell_type": "markdown",
   "metadata": {},
   "source": [
    "## Graph Attention Layer in Numpy"
   ]
  },
  {
   "cell_type": "code",
   "execution_count": 36,
   "metadata": {},
   "outputs": [],
   "source": [
    "import numpy as np\n",
    "from torch_geometric.datasets import Planetoid\n",
    "import torch\n",
    "import torch.nn.functional as F\n",
    "from torch_geometric.nn import GATv2Conv\n",
    "from torch.nn import Linear, Dropout\n",
    "import matplotlib.pyplot as plt\n",
    "from torch_geometric.utils import degree\n",
    "from collections import Counter\n",
    "np.random.seed(0)\n"
   ]
  },
  {
   "cell_type": "code",
   "execution_count": 16,
   "metadata": {},
   "outputs": [
    {
     "name": "stdout",
     "output_type": "stream",
     "text": [
      "Adjacency Matrix:\n",
      "[[1 1 1 1]\n",
      " [1 1 0 0]\n",
      " [1 0 1 1]\n",
      " [1 0 1 1]]\n",
      "Node Feature Matrix:\n",
      "[[-0.95956321  0.66523969  0.5563135   0.7400243 ]\n",
      " [ 0.95723668  0.59831713 -0.07704128  0.56105835]\n",
      " [-0.76345115  0.27984204 -0.71329343  0.88933783]\n",
      " [ 0.04369664 -0.17067612 -0.47088878  0.54846738]]\n"
     ]
    }
   ],
   "source": [
    "# Create a adjacency matrix for a 4-node graph\n",
    "A = np.array([[1,1,1,1],\n",
    "              [1,1,0,0],\n",
    "              [1,0,1,1],\n",
    "              [1,0,1,1]])\n",
    "# Create a node feature matrix with 4 nodes and 4 features\n",
    "X = np.random.uniform(-1, 1, (4, 4))\n",
    "print(\"Adjacency Matrix:\")\n",
    "print(A)\n",
    "print(\"Node Feature Matrix:\")\n",
    "print(X)"
   ]
  },
  {
   "cell_type": "code",
   "execution_count": 2,
   "metadata": {},
   "outputs": [
    {
     "name": "stdout",
     "output_type": "stream",
     "text": [
      "Weight Matrix:\n",
      "[[-0.95956321  0.66523969  0.5563135   0.7400243 ]\n",
      " [ 0.95723668  0.59831713 -0.07704128  0.56105835]]\n"
     ]
    }
   ],
   "source": [
    "# Create a random weight matrix\n",
    "W = np.random.uniform(-1, 1, (2, 4))\n",
    "print(\"Weight Matrix:\")\n",
    "print(W)"
   ]
  },
  {
   "cell_type": "code",
   "execution_count": 3,
   "metadata": {},
   "outputs": [
    {
     "name": "stdout",
     "output_type": "stream",
     "text": [
      "Attention Weight Matrix:\n",
      "[[-0.76345115  0.27984204 -0.71329343  0.88933783]]\n"
     ]
    }
   ],
   "source": [
    "# Create a random attention weight matrix\n",
    "W_att = np.random.uniform(-1, 1, (1, 4))\n",
    "print(\"Attention Weight Matrix:\")\n",
    "print(W_att)"
   ]
  },
  {
   "cell_type": "code",
   "execution_count": 4,
   "metadata": {},
   "outputs": [
    {
     "name": "stdout",
     "output_type": "stream",
     "text": [
      "Connections (i, j) where A[i][j] > 0:\n",
      "(array([0, 0, 0, 0, 1, 1, 2, 2, 2, 3, 3, 3]), array([0, 1, 2, 3, 0, 1, 0, 2, 3, 0, 2, 3]))\n"
     ]
    }
   ],
   "source": [
    "# Find hidden vectors in adjacency matrix in COO fomart\n",
    "connections = np.where(A>0)\n",
    "print(\"Connections (i, j) where A[i][j] > 0:\")\n",
    "print(connections)"
   ]
  },
  {
   "cell_type": "code",
   "execution_count": 5,
   "metadata": {},
   "outputs": [
    {
     "data": {
      "text/plain": [
       "array([[ 0.37339233,  0.38548525,  0.37339233,  0.38548525],\n",
       "       [ 0.37339233,  0.38548525,  0.85102612,  0.47765279],\n",
       "       [ 0.37339233,  0.38548525, -0.67755906,  0.73566587],\n",
       "       [ 0.37339233,  0.38548525, -0.65268413,  0.24235977],\n",
       "       [ 0.85102612,  0.47765279,  0.37339233,  0.38548525],\n",
       "       [ 0.85102612,  0.47765279,  0.85102612,  0.47765279],\n",
       "       [-0.67755906,  0.73566587,  0.37339233,  0.38548525],\n",
       "       [-0.67755906,  0.73566587, -0.67755906,  0.73566587],\n",
       "       [-0.67755906,  0.73566587, -0.65268413,  0.24235977],\n",
       "       [-0.65268413,  0.24235977,  0.37339233,  0.38548525],\n",
       "       [-0.65268413,  0.24235977, -0.67755906,  0.73566587],\n",
       "       [-0.65268413,  0.24235977, -0.65268413,  0.24235977]])"
      ]
     },
     "execution_count": 5,
     "metadata": {},
     "output_type": "execute_result"
    }
   ],
   "source": [
    "np.concatenate([(X@W.T)[connections[0]], (X@W.T)[connections[1]]], axis=1)"
   ]
  },
  {
   "cell_type": "code",
   "execution_count": 6,
   "metadata": {},
   "outputs": [
    {
     "name": "stdout",
     "output_type": "stream",
     "text": [
      "[[-0.1007035  -0.35942847  0.96036209  0.50390318 -0.43956122 -0.69828618\n",
      "   0.79964181  1.8607074   1.40424849  0.64260322  1.70366881  1.2472099 ]]\n"
     ]
    }
   ],
   "source": [
    "a = W_att @ np.concatenate([(X@W.T)[connections[0]], (X@W.T)[connections[1]]], axis=1).T\n",
    "print(a)"
   ]
  },
  {
   "cell_type": "code",
   "execution_count": 7,
   "metadata": {},
   "outputs": [
    {
     "name": "stdout",
     "output_type": "stream",
     "text": [
      "[[-0.0201407  -0.07188569  0.96036209  0.50390318 -0.08791224 -0.13965724\n",
      "   0.79964181  1.8607074   1.40424849  0.64260322  1.70366881  1.2472099 ]]\n"
     ]
    }
   ],
   "source": [
    "def leaky_relu(x, alpha=0.2):\n",
    "    return np.maximum(alpha*x,x)\n",
    "\n",
    "e = leaky_relu(a)\n",
    "print(e)"
   ]
  },
  {
   "cell_type": "code",
   "execution_count": 8,
   "metadata": {},
   "outputs": [
    {
     "name": "stdout",
     "output_type": "stream",
     "text": [
      "[[-0.0201407  -0.07188569  0.96036209  0.50390318]\n",
      " [-0.08791224 -0.13965724  0.          0.        ]\n",
      " [ 0.79964181  0.          1.8607074   1.40424849]\n",
      " [ 0.64260322  0.          1.70366881  1.2472099 ]]\n"
     ]
    }
   ],
   "source": [
    "E = np.zeros(A.shape)\n",
    "\n",
    "E[connections[0], connections[1]] = e[0]\n",
    "print(E)"
   ]
  },
  {
   "cell_type": "code",
   "execution_count": 9,
   "metadata": {},
   "outputs": [
    {
     "name": "stdout",
     "output_type": "stream",
     "text": [
      "[[0.15862414 0.15062488 0.42285965 0.26789133]\n",
      " [0.24193418 0.22973368 0.26416607 0.26416607]\n",
      " [0.16208847 0.07285714 0.46834625 0.29670814]\n",
      " [0.16010498 0.08420266 0.46261506 0.2930773 ]]\n"
     ]
    }
   ],
   "source": [
    "def softmax(x, axis):\n",
    "    e = np.exp(x - np.expand_dims(np.max(x, axis=axis), axis=axis))\n",
    "    sum = np.expand_dims(np.sum(e, axis=axis), axis=axis)\n",
    "    return e / sum\n",
    "# Calculate the attention scores matrix\n",
    "W_alpha = softmax(E, axis=1)\n",
    "print(W_alpha)"
   ]
  },
  {
   "cell_type": "code",
   "execution_count": 11,
   "metadata": {},
   "outputs": [
    {
     "name": "stdout",
     "output_type": "stream",
     "text": [
      "[[-1.10126376  1.99749693]\n",
      " [-0.33950544  0.97045933]\n",
      " [-1.03570438  1.53614075]\n",
      " [-1.03570438  1.53614075]]\n"
     ]
    }
   ],
   "source": [
    "# Calculate the embedding matrix H\n",
    "H = A.T @ W_alpha @ X @ W.T\n",
    "print(H)"
   ]
  },
  {
   "cell_type": "markdown",
   "metadata": {},
   "source": [
    "## Implementing GAT IN Pytorch Geometric"
   ]
  },
  {
   "cell_type": "code",
   "execution_count": null,
   "metadata": {},
   "outputs": [
    {
     "data": {
      "text/plain": [
       "Data(x=[2708, 1433], edge_index=[2, 10556], y=[2708], train_mask=[2708], val_mask=[2708], test_mask=[2708])"
      ]
     },
     "execution_count": 14,
     "metadata": {},
     "output_type": "execute_result"
    }
   ],
   "source": [
    "\n",
    "\n",
    "cora_dataset = Planetoid(root='../data/Cora', name='Cora')\n",
    "cora_dataset[0]"
   ]
  },
  {
   "cell_type": "code",
   "execution_count": 26,
   "metadata": {},
   "outputs": [],
   "source": [
    "class GAT(torch.nn.Module):\n",
    "    def __init__(self, dim_in, dim_h, dim_out, heads=8):\n",
    "        super().__init__()\n",
    "        self.gat1 = GATv2Conv(dim_in, dim_h, heads=heads)\n",
    "        self.gat2 = GATv2Conv(dim_h*heads, dim_out, heads=1)\n",
    "    \n",
    "    def accuracy(self, pred, labels):\n",
    "        return torch.sum(pred == labels)/len(labels)\n",
    "\n",
    "    def forward(self, x, edge_index):\n",
    "        h = F.dropout(x, p=0.6, training=self.training)\n",
    "        h = self.gat1(h, edge_index)\n",
    "        h = F.elu(h)\n",
    "        h = F.dropout(h, p=0.6, training=self.training)\n",
    "        h = self.gat2(h, edge_index)\n",
    "        return F.log_softmax(h, dim=1)\n",
    "    \n",
    "    def fit(self, data, epochs):\n",
    "        criterion = torch.nn.CrossEntropyLoss()\n",
    "        optimizer = torch.optim.Adam(self.parameters(), lr=0.01, weight_decay=5e-4)\n",
    "        self.train()\n",
    "        for epoch in range(epochs):\n",
    "            \n",
    "            optimizer.zero_grad()\n",
    "            out = self(data.x, data.edge_index)\n",
    "            loss = criterion(out[data.train_mask], data.y[data.train_mask])\n",
    "            loss.backward()\n",
    "            optimizer.step()\n",
    "            if epoch % 20 == 0:\n",
    "                train_acc = self.accuracy(out[data.train_mask].argmax(dim=1), data.y[data.train_mask])\n",
    "                val_acc = self.accuracy(out[data.val_mask].argmax(dim=1), data.y[data.val_mask])\n",
    "                print(f'Epoch {epoch>3} | Train Loss {loss.item():.4f} | Train Acc {train_acc*100:.3f} | '\n",
    "                      f'Val Loss {criterion(out[data.val_mask], data.y[data.val_mask]):.4f} | Val Acc {val_acc*100:.2f} | ')\n",
    "    @torch.no_grad()\n",
    "    def test(self, data):\n",
    "        self.eval()\n",
    "        out = self(data.x, data.edge_index)\n",
    "        test_loss = F.cross_entropy(out[data.test_mask], data.y[data.test_mask])\n",
    "        test_acc = self.accuracy(out[data.test_mask].argmax(dim=1), data.y[data.test_mask])\n",
    "        print(f'Test Loss {test_loss:.4f} | Test Acc {test_acc:.4f} | ')\n",
    "        return test_loss, test_acc"
   ]
  },
  {
   "cell_type": "code",
   "execution_count": 34,
   "metadata": {},
   "outputs": [
    {
     "name": "stdout",
     "output_type": "stream",
     "text": [
      "GAT(\n",
      "  (gat1): GATv2Conv(1433, 32, heads=8)\n",
      "  (gat2): GATv2Conv(256, 7, heads=1)\n",
      ")\n",
      "Epoch False | Train Loss 1.9817 | Train Acc 9.286 | Val Loss 1.9474 | Val Acc 14.40 | \n",
      "Epoch True | Train Loss 0.0418 | Train Acc 97.857 | Val Loss 1.6640 | Val Acc 70.40 | \n",
      "Epoch True | Train Loss 0.0206 | Train Acc 98.571 | Val Loss 1.5144 | Val Acc 71.20 | \n",
      "Epoch True | Train Loss 0.0229 | Train Acc 99.286 | Val Loss 1.3005 | Val Acc 69.40 | \n",
      "Epoch True | Train Loss 0.0138 | Train Acc 100.000 | Val Loss 1.2959 | Val Acc 71.60 | \n",
      "Epoch True | Train Loss 0.0171 | Train Acc 99.286 | Val Loss 1.2659 | Val Acc 72.60 | \n",
      "Epoch True | Train Loss 0.0104 | Train Acc 100.000 | Val Loss 1.3657 | Val Acc 70.40 | \n",
      "Epoch True | Train Loss 0.0467 | Train Acc 99.286 | Val Loss 1.4618 | Val Acc 68.60 | \n",
      "Epoch True | Train Loss 0.0259 | Train Acc 98.571 | Val Loss 1.3367 | Val Acc 70.80 | \n",
      "Epoch True | Train Loss 0.0256 | Train Acc 98.571 | Val Loss 1.4187 | Val Acc 70.80 | \n",
      "Test Loss 0.7994 | Test Acc 0.8000 | \n",
      "GAT Test Accuracy on Cora Dataset: 80.00%\n"
     ]
    }
   ],
   "source": [
    "gat = GAT(cora_dataset.num_features, 32, cora_dataset.num_classes, heads=8)\n",
    "print(gat)\n",
    "gat.fit(cora_dataset[0], 200)\n",
    "test_acc = gat.test(cora_dataset[0])\n",
    "print(f'GAT Test Accuracy on Cora Dataset: {test_acc[1]*100:.2f}%')"
   ]
  },
  {
   "cell_type": "code",
   "execution_count": null,
   "metadata": {},
   "outputs": [
    {
     "data": {
      "text/plain": [
       "Text(0, 0.5, 'Number of Nodes')"
      ]
     },
     "execution_count": 39,
     "metadata": {},
     "output_type": "execute_result"
    },
    {
     "data": {
      "image/png": "[encoded data removed]",
      "text/plain": [
       "<Figure size 1000x500 with 1 Axes>"
      ]
     },
     "metadata": {},
     "output_type": "display_data"
    }
   ],
   "source": [
    "citeseer_dataset = Planetoid(root='../data/Citeseer', name='Citeseer')\n",
    "degrees = degree(citeseer_dataset[0].edge_index[0]).numpy()\n",
    "plt.figure(figsize=(10, 5))\n",
    "numbers = Counter(degrees)  \n",
    "plt.bar(numbers.keys(), numbers.values())\n",
    "plt.title('Node Distribution by Degree')\n",
    "plt.xlabel('Node Degree')\n",
    "plt.ylabel('Number of Nodes')"
   ]
  },
  {
   "cell_type": "code",
   "execution_count": 47,
   "metadata": {},
   "outputs": [
    {
     "data": {
      "image/png": "[encoded data removed]",
      "text/plain": [
       "<Figure size 1000x500 with 1 Axes>"
      ]
     },
     "metadata": {},
     "output_type": "display_data"
    }
   ],
   "source": [
    "plt.figure(figsize=(10, 5))\n",
    "numbers = Counter(degrees)  \n",
    "plt.hist(numbers.keys(), cumulative=True, bins=20, density=True, edgecolor='black', alpha=0.7)\n",
    "plt.title('CDF of Node Degrees')\n",
    "plt.xlabel('Node Degree')\n",
    "plt.ylabel('CDF')\n",
    "plt.show()"
   ]
  },
  {
   "cell_type": "code",
   "execution_count": 41,
   "metadata": {},
   "outputs": [
    {
     "name": "stdout",
     "output_type": "stream",
     "text": [
      "GAT(\n",
      "  (gat1): GATv2Conv(3703, 16, heads=8)\n",
      "  (gat2): GATv2Conv(128, 6, heads=1)\n",
      ")\n",
      "Epoch False | Train Loss 1.8067 | Train Acc 13.333 | Val Loss 1.7988 | Val Acc 16.80 | \n",
      "Epoch True | Train Loss 0.0192 | Train Acc 99.167 | Val Loss 2.0237 | Val Acc 57.80 | \n",
      "Epoch True | Train Loss 0.0080 | Train Acc 100.000 | Val Loss 1.7646 | Val Acc 63.00 | \n",
      "Epoch True | Train Loss 0.0110 | Train Acc 100.000 | Val Loss 1.7439 | Val Acc 62.20 | \n",
      "Epoch True | Train Loss 0.0156 | Train Acc 100.000 | Val Loss 1.8217 | Val Acc 61.20 | \n",
      "Test Loss 1.3329 | Test Acc 0.6610 | \n",
      "GAT Test Accuracy on Citeseer Dataset: 66.10%\n"
     ]
    }
   ],
   "source": [
    "gat_citeseer = GAT(citeseer_dataset.num_features, 16, citeseer_dataset.num_classes, heads=8)\n",
    "print(gat_citeseer)\n",
    "gat_citeseer.fit(citeseer_dataset[0], 100)\n",
    "test_acc_citeseer = gat_citeseer.test(citeseer_dataset[0])\n",
    "print(f'GAT Test Accuracy on Citeseer Dataset: {test_acc_citeseer[1]*100:.2f}%')\n"
   ]
  },
  {
   "cell_type": "code",
   "execution_count": 44,
   "metadata": {},
   "outputs": [
    {
     "data": {
      "text/plain": [
       "Text(0, 0.5, 'Accuracy')"
      ]
     },
     "execution_count": 44,
     "metadata": {},
     "output_type": "execute_result"
    },
    {
     "data": {
      "image/png": "[encoded data removed]",
      "text/plain": [
       "<Figure size 1000x500 with 1 Axes>"
      ]
     },
     "metadata": {},
     "output_type": "display_data"
    }
   ],
   "source": [
    "outp = gat_citeseer(citeseer_dataset[0].x, citeseer_dataset[0].edge_index)\n",
    "\n",
    "degrees = degree(citeseer_dataset[0].edge_index[0]).numpy()\n",
    "accuracies = []\n",
    "sizes = []\n",
    "for i in range(0,6):\n",
    "    mask = np.where(degrees == i)[0]\n",
    "\n",
    "    accuracies.append(gat_citeseer.accuracy(outp[mask].argmax(dim=1), citeseer_dataset[0].y[mask]))\n",
    "    sizes.append(len(mask))\n",
    "\n",
    "mask = np.where(degrees >5)[0]\n",
    "\n",
    "accuracies.append(gat_citeseer.accuracy(outp[mask].argmax(dim=1), citeseer_dataset[0].y[mask]))\n",
    "sizes.append(len(mask))\n",
    "\n",
    "plt.figure(figsize=(10, 5))\n",
    "plt.bar(np.arange(0,7), accuracies, width=0.5)\n",
    "plt.title('Node Classification Accuracy by Degree')\n",
    "plt.xlabel('Node Degree')\n",
    "plt.ylabel('Accuracy')"
   ]
  },
  {
   "cell_type": "code",
   "execution_count": null,
   "metadata": {},
   "outputs": [],
   "source": []
  }
 ],
 "metadata": {
  "kernelspec": {
   "display_name": "gnn_env",
   "language": "python",
   "name": "python3"
  },
  "language_info": {
   "codemirror_mode": {
    "name": "ipython",
    "version": 3
   },
   "file_extension": ".py",
   "mimetype": "text/x-python",
   "name": "python",
   "nbconvert_exporter": "python",
   "pygments_lexer": "ipython3",
   "version": "3.10.12"
  }
 },
 "nbformat": 4,
 "nbformat_minor": 2
}
