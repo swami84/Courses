{
 "cells": [
  {
   "cell_type": "code",
   "execution_count": 1,
   "id": "78b45047",
   "metadata": {},
   "outputs": [],
   "source": [
    "import numpy as np\n",
    "np.random.seed(0)\n",
    "import matplotlib.pyplot as plt\n",
    "import torch\n",
    "torch.manual_seed(0)\n",
    "import torch_geometric.transforms as T\n",
    "from torch_geometric.transforms import RandomLinkSplit\n",
    "from torch_geometric.data import Data\n",
    "from torch_geometric.loader import DataLoader\n",
    "import torch.nn.functional as F\n",
    "\n",
    "from torch_geometric.datasets import Planetoid\n",
    "from torch_geometric.nn import GCNConv, VGAE, aggr\n",
    "from torch_geometric.utils import k_hop_subgraph, to_scipy_sparse_matrix\n",
    "from sklearn.metrics import roc_auc_score, average_precision_score\n",
    "from scipy.sparse.csgraph import shortest_path\n",
    "device = torch.device('cuda' if torch.cuda.is_available() else 'cpu')"
   ]
  },
  {
   "cell_type": "code",
   "execution_count": 2,
   "id": "44681487",
   "metadata": {},
   "outputs": [],
   "source": [
    "transform = T.Compose([\n",
    "    T.NormalizeFeatures(),\n",
    "    T.ToDevice(device),\n",
    "    T.RandomLinkSplit(\n",
    "        num_val=0.05,\n",
    "        num_test=0.1,\n",
    "        is_undirected=True,\n",
    "        add_negative_train_samples=False,\n",
    "        split_labels=True,\n",
    "    )])\n",
    "cora_dataset = Planetoid(root='../data/Cora', name='Cora', transform=transform)"
   ]
  },
  {
   "cell_type": "code",
   "execution_count": 3,
   "id": "4247bf37",
   "metadata": {},
   "outputs": [],
   "source": [
    "train_data, val_data, test_data = cora_dataset[0]"
   ]
  },
  {
   "cell_type": "code",
   "execution_count": 4,
   "id": "d3df89fb",
   "metadata": {},
   "outputs": [
    {
     "name": "stdout",
     "output_type": "stream",
     "text": [
      "Epoch 000, Loss: 3.4718\n",
      "Validation AUC: 0.7351, AP: 0.7586\n",
      "Epoch 050, Loss: 1.3337\n",
      "Validation AUC: 0.7270, AP: 0.7591\n",
      "Epoch 100, Loss: 1.2080\n",
      "Validation AUC: 0.7598, AP: 0.7930\n",
      "Epoch 150, Loss: 1.0411\n",
      "Validation AUC: 0.8266, AP: 0.8387\n",
      "Epoch 200, Loss: 1.0026\n",
      "Validation AUC: 0.8602, AP: 0.8766\n",
      "Epoch 250, Loss: 0.9948\n",
      "Validation AUC: 0.8730, AP: 0.8838\n",
      "Epoch 300, Loss: 0.9635\n",
      "Validation AUC: 0.8834, AP: 0.8953\n"
     ]
    }
   ],
   "source": [
    "class Encoder(torch.nn.Module):\n",
    "    def __init__(self, dim_in,dim_out):\n",
    "        super(Encoder, self).__init__()\n",
    "        self.conv1 = GCNConv(dim_in, dim_out*2)\n",
    "        self.conv_mu = GCNConv(dim_out*2, dim_out)\n",
    "        self.conv_logstd = GCNConv(2*dim_out, dim_out)\n",
    "\n",
    "    def forward(self, x, edge_index):\n",
    "        x = self.conv1(x, edge_index).relu()\n",
    "        mu = self.conv_mu(x, edge_index)\n",
    "        logstd = self.conv_logstd(x, edge_index)\n",
    "        return mu, logstd\n",
    "    \n",
    "model = VGAE(Encoder(cora_dataset.num_features, 16)).to(device)\n",
    "optimizer = torch.optim.Adam(model.parameters(), lr=0.01)\n",
    "\n",
    "def train():\n",
    "    model.train()\n",
    "    optimizer.zero_grad()\n",
    "    z = model.encode(train_data.x, train_data.edge_index)\n",
    "    loss = model.recon_loss(z, train_data.pos_edge_label_index) \n",
    "    loss += (1 / train_data.num_nodes) * model.kl_loss()\n",
    "    loss.backward()\n",
    "    optimizer.step()\n",
    "    return float(loss)\n",
    "@torch.no_grad()\n",
    "def test(data):\n",
    "    model.eval()\n",
    "    z = model.encode(data.x, data.edge_index)\n",
    "    return model.test(z, data.pos_edge_label_index, data.neg_edge_label_index)\n",
    "\n",
    "for epoch in range(301):\n",
    "    loss = train()\n",
    "    if epoch % 50 == 0:\n",
    "        print(f'Epoch {epoch:03d}, Loss: {loss:.4f}')\n",
    "        auc, ap = test(val_data)\n",
    "        print(f'Validation AUC: {auc:.4f}, AP: {ap:.4f}')"
   ]
  },
  {
   "cell_type": "code",
   "execution_count": 5,
   "id": "0e40a61a",
   "metadata": {},
   "outputs": [
    {
     "name": "stdout",
     "output_type": "stream",
     "text": [
      "Test AUC: 0.8564, AP: 0.8560\n"
     ]
    }
   ],
   "source": [
    "test_auc, test_ap = test(test_data)\n",
    "print(f'Test AUC: {test_auc:.4f}, AP: {test_ap:.4f}')"
   ]
  },
  {
   "cell_type": "code",
   "execution_count": 6,
   "id": "252b6673",
   "metadata": {},
   "outputs": [
    {
     "data": {
      "text/plain": [
       "tensor([[0.8063, 0.7095, 0.7639,  ..., 0.4197, 0.7835, 0.7631],\n",
       "        [0.7095, 0.8262, 0.8304,  ..., 0.5361, 0.7983, 0.7014],\n",
       "        [0.7639, 0.8304, 0.8474,  ..., 0.5167, 0.8228, 0.7478],\n",
       "        ...,\n",
       "        [0.4197, 0.5361, 0.5167,  ..., 0.5859, 0.4664, 0.4564],\n",
       "        [0.7835, 0.7983, 0.8228,  ..., 0.4664, 0.8185, 0.7523],\n",
       "        [0.7631, 0.7014, 0.7478,  ..., 0.4564, 0.7523, 0.7309]],\n",
       "       device='cuda:0', grad_fn=<SigmoidBackward0>)"
      ]
     },
     "execution_count": 6,
     "metadata": {},
     "output_type": "execute_result"
    }
   ],
   "source": [
    "z= model.encode(test_data.x, test_data.edge_index)\n",
    "Ahat = torch.sigmoid(z @z.T)\n",
    "Ahat"
   ]
  },
  {
   "cell_type": "code",
   "execution_count": 7,
   "id": "38d67c26",
   "metadata": {},
   "outputs": [
    {
     "data": {
      "text/plain": [
       "Data(x=[2708, 1433], edge_index=[2, 8976], y=[2708], train_mask=[2708], val_mask=[2708], test_mask=[2708], pos_edge_label=[4488], pos_edge_label_index=[2, 4488], neg_edge_label=[4488], neg_edge_label_index=[2, 4488])"
      ]
     },
     "execution_count": 7,
     "metadata": {},
     "output_type": "execute_result"
    }
   ],
   "source": [
    "transform = RandomLinkSplit(\n",
    "    num_val=0.05,\n",
    "    num_test=0.1,\n",
    "    is_undirected=True,\n",
    "    split_labels=True,\n",
    ")\n",
    "\n",
    "cora_dataset = Planetoid(root='../data/Cora', name='Cora', transform=transform)\n",
    "train_data, val_data, test_data = cora_dataset[0]\n",
    "train_data"
   ]
  },
  {
   "cell_type": "code",
   "execution_count": 10,
   "id": "0d3b59ad",
   "metadata": {},
   "outputs": [],
   "source": [
    "def seal_processing(data, edge_label_index, y):\n",
    "    data_list = []\n",
    "    for src, dst in edge_label_index.t().tolist():\n",
    "        sub_nodes, sub_edge_index, mapping, _= k_hop_subgraph([src, dst], 2, data.edge_index, relabel_nodes=True)\n",
    "        src, dst = mapping.tolist()\n",
    "        mask1 = (sub_edge_index[0] != src) | (sub_edge_index[1] != dst)\n",
    "        mask2 = (sub_edge_index[0] != dst) | (sub_edge_index[1] != src)\n",
    "        sub_edge_index = sub_edge_index[:, mask1 & mask2]\n",
    "        src, dst = (dst, src) if src> dst else (src, dst)\n",
    "        adj = to_scipy_sparse_matrix(sub_edge_index, num_nodes=sub_nodes.size(0)).tocsr()\n",
    "        idx = list(range(src)) + list(range(src+1, adj.shape[0]))\n",
    "        adj_wo_src = adj[idx,:][:, idx]\n",
    "        idx = list(range(dst)) + list(range(dst+1, adj.shape[0]))\n",
    "        adj_wo_dst = adj[idx,:][:, idx]\n",
    "        d_src = shortest_path(adj_wo_dst , directed=False, unweighted=True, indices=src)\n",
    "        d_src = np.insert(d_src, dst, 0, axis= 0)\n",
    "        d_src = torch.from_numpy(d_src)\n",
    "        d_dst = shortest_path(adj_wo_src , directed=False, unweighted=True, indices=dst-1)\n",
    "        d_dst = np.insert(d_dst, src, 0, axis= 0)\n",
    "        d_dst = torch.from_numpy(d_dst)\n",
    "        dist = d_src + d_dst\n",
    "        z= 1 + torch.min(d_src, d_dst) + dist//2*(dist//2 + dist % 2 -1)\n",
    "        z[src], z[dst], z[torch.isnan(z)] = 1.,1.,0.\n",
    "        z = z.to(torch.long)\n",
    "        node_lables = F.one_hot(z, num_classes=200).to(torch.float)\n",
    "        node_emb = data.x[sub_nodes]\n",
    "        node_x = torch.cat([node_emb, node_lables], dim=1)\n",
    "        data_obj = Data(x=node_x,z =z, edge_index=sub_edge_index, y=y)\n",
    "        data_list.append(data_obj)\n",
    "    return data_list"
   ]
  },
  {
   "cell_type": "code",
   "execution_count": 9,
   "id": "6676e1c3",
   "metadata": {},
   "outputs": [],
   "source": [
    "train_pos_data_list = seal_processing(train_data, train_data.pos_edge_label_index, 1)\n",
    "train_neg_data_list = seal_processing(train_data, train_data.neg_edge_label_index, 0)\n",
    "val_pos_data_list = seal_processing(val_data, val_data.pos_edge_label_index, 1)\n",
    "val_neg_data_list = seal_processing(val_data, val_data.neg_edge_label_index, 0)\n",
    "test_pos_data_list = seal_processing(test_data, test_data.pos_edge_label_index, 1)\n",
    "test_neg_data_list = seal_processing(test_data, test_data.neg_edge_label_index, 0)"
   ]
  },
  {
   "cell_type": "code",
   "execution_count": 11,
   "id": "ec731a1a",
   "metadata": {},
   "outputs": [],
   "source": [
    "train_dataset = train_pos_data_list + train_neg_data_list\n",
    "val_dataset = val_pos_data_list + val_neg_data_list\n",
    "test_dataset = test_pos_data_list + test_neg_data_list"
   ]
  },
  {
   "cell_type": "code",
   "execution_count": 32,
   "id": "7d680ab0",
   "metadata": {},
   "outputs": [
    {
     "data": {
      "text/plain": [
       "1"
      ]
     },
     "execution_count": 32,
     "metadata": {},
     "output_type": "execute_result"
    }
   ],
   "source": [
    "train_dataset[0].y"
   ]
  },
  {
   "cell_type": "code",
   "execution_count": null,
   "id": "0b39c029",
   "metadata": {},
   "outputs": [
    {
     "data": {
      "text/plain": [
       "1633"
      ]
     },
     "execution_count": 28,
     "metadata": {},
     "output_type": "execute_result"
    }
   ],
   "source": [
    "train_dataset[1].num_features"
   ]
  },
  {
   "cell_type": "code",
   "execution_count": 34,
   "id": "7bf9d2de",
   "metadata": {},
   "outputs": [
    {
     "name": "stdout",
     "output_type": "stream",
     "text": [
      "Epoch 000, Loss: 0.5937, Validation AUC: 0.8297, AP: 0.8438\n",
      "Epoch 001, Loss: 0.4681, Validation AUC: 0.8569, AP: 0.8820\n",
      "Epoch 002, Loss: 0.4263, Validation AUC: 0.8699, AP: 0.8948\n",
      "Epoch 003, Loss: 0.3927, Validation AUC: 0.8831, AP: 0.9063\n",
      "Epoch 004, Loss: 0.3616, Validation AUC: 0.8906, AP: 0.9153\n",
      "Epoch 005, Loss: 0.3309, Validation AUC: 0.8900, AP: 0.9142\n",
      "Epoch 006, Loss: 0.3110, Validation AUC: 0.8845, AP: 0.9109\n",
      "Epoch 007, Loss: 0.2965, Validation AUC: 0.8806, AP: 0.9080\n",
      "Epoch 008, Loss: 0.2873, Validation AUC: 0.8744, AP: 0.9029\n",
      "Epoch 009, Loss: 0.2768, Validation AUC: 0.8734, AP: 0.9021\n",
      "Epoch 010, Loss: 0.2681, Validation AUC: 0.8677, AP: 0.9003\n",
      "Epoch 011, Loss: 0.2641, Validation AUC: 0.8628, AP: 0.8962\n",
      "Epoch 012, Loss: 0.2582, Validation AUC: 0.8627, AP: 0.8962\n",
      "Epoch 013, Loss: 0.2528, Validation AUC: 0.8653, AP: 0.8981\n",
      "Epoch 014, Loss: 0.2478, Validation AUC: 0.8673, AP: 0.8983\n",
      "Epoch 015, Loss: 0.2436, Validation AUC: 0.8662, AP: 0.8976\n",
      "Epoch 016, Loss: 0.2362, Validation AUC: 0.8637, AP: 0.8968\n",
      "Epoch 017, Loss: 0.2346, Validation AUC: 0.8599, AP: 0.8938\n",
      "Epoch 018, Loss: 0.2296, Validation AUC: 0.8651, AP: 0.8956\n",
      "Epoch 019, Loss: 0.2273, Validation AUC: 0.8585, AP: 0.8915\n",
      "Epoch 020, Loss: 0.2244, Validation AUC: 0.8651, AP: 0.8963\n",
      "Epoch 021, Loss: 0.2202, Validation AUC: 0.8658, AP: 0.8966\n",
      "Epoch 022, Loss: 0.2170, Validation AUC: 0.8641, AP: 0.8960\n",
      "Epoch 023, Loss: 0.2176, Validation AUC: 0.8638, AP: 0.8954\n",
      "Epoch 024, Loss: 0.2132, Validation AUC: 0.8601, AP: 0.8938\n",
      "Epoch 025, Loss: 0.2100, Validation AUC: 0.8540, AP: 0.8885\n",
      "Epoch 026, Loss: 0.2093, Validation AUC: 0.8608, AP: 0.8948\n",
      "Epoch 027, Loss: 0.2036, Validation AUC: 0.8584, AP: 0.8942\n",
      "Epoch 028, Loss: 0.2017, Validation AUC: 0.8638, AP: 0.8962\n",
      "Epoch 029, Loss: 0.1989, Validation AUC: 0.8625, AP: 0.8965\n"
     ]
    }
   ],
   "source": [
    "train_loader = DataLoader(train_dataset, batch_size=32, shuffle=True)\n",
    "val_loader = DataLoader(val_dataset, batch_size=32, shuffle=False)\n",
    "test_loader = DataLoader(test_dataset, batch_size=32, shuffle=False)\n",
    "class DGCNN(torch.nn.Module):\n",
    "    def __init__(self, dim_in,dim_h, dim_out, k=30):\n",
    "        super(DGCNN, self).__init__()\n",
    "        self.gcn1 = GCNConv(dim_in, dim_h) # \n",
    "        self.gcn2 = GCNConv(dim_h, dim_h)\n",
    "        self.gcn3 = GCNConv(dim_h, dim_h)\n",
    "        self.gcn4 = GCNConv(dim_h, dim_out)\n",
    "        self.global_pool = aggr.SortAggregation(k=k)\n",
    "        self.conv1 = torch.nn.Conv1d(1,16,97,97)\n",
    "        self.conv2 = torch.nn.Conv1d(16,32,5,1)\n",
    "        self.maxpool = torch.nn.MaxPool1d(2,2)\n",
    "        self.linear1 = torch.nn.Linear(352, 128)\n",
    "        self.dropout = torch.nn.Dropout(0.5)\n",
    "        self.linear2 = torch.nn.Linear(128, 1)\n",
    "    def forward(self, x, edge_index, batch):\n",
    "        h1 = self.gcn1(x, edge_index).tanh()\n",
    "        h2 = self.gcn2(h1, edge_index).tanh()\n",
    "        h3 = self.gcn3(h2, edge_index).tanh()\n",
    "        h4 = self.gcn4(h3, edge_index).tanh()\n",
    "        h= torch.cat([h1, h2, h3, h4], dim=-1)\n",
    "        h = self.global_pool(h, batch)\n",
    "        h= h.view(h.size(0), 1, h.size(-1))\n",
    "        h = self.conv1(h)\n",
    "        h = self.maxpool(h)\n",
    "        h = self.conv2(h)\n",
    "        h = h.view(h.size(0), -1)\n",
    "        h = self.linear1(h)\n",
    "        h = self.dropout(h)\n",
    "        h = self.linear2(h).sigmoid()\n",
    "        return h\n",
    "\n",
    "device = torch.device('cuda' if torch.cuda.is_available() else 'cpu')\n",
    "model = DGCNN(train_dataset[0].num_features, 32,train_dataset[0].y, k = 30).to(device)\n",
    "optimizer = torch.optim.Adam(model.parameters(), lr=0.0001)\n",
    "criterion = torch.nn.BCELoss()\n",
    "def train():\n",
    "    model.train()\n",
    "    total_loss = 0\n",
    "    for data in train_loader:\n",
    "        data = data.to(device)\n",
    "        optimizer.zero_grad()\n",
    "        out = model(data.x, data.edge_index, data.batch)\n",
    "        loss = criterion(out.view(-1), data.y.to(torch.float))\n",
    "        loss.backward()\n",
    "        optimizer.step()\n",
    "        total_loss += float(loss) * data.num_graphs\n",
    "    return total_loss / len(train_dataset)\n",
    "@torch.no_grad()\n",
    "def test(loader):\n",
    "    model.eval()\n",
    "    y_pred, y_true = [], []\n",
    "    for data in loader:\n",
    "        data = data.to(device)\n",
    "        out = model(data.x, data.edge_index, data.batch)\n",
    "        y_pred.append(out.view(-1).cpu())\n",
    "        y_true.append(data.y.view(-1).cpu().to(torch.float))\n",
    "    auc = roc_auc_score(torch.cat(y_true), torch.cat(y_pred))\n",
    "    ap = average_precision_score(torch.cat(y_true), torch.cat(y_pred))\n",
    "    return auc, ap\n",
    "epochs = 30\n",
    "for epoch in range(epochs):\n",
    "    loss = train()\n",
    "    val_auc, val_ap = test(val_loader)\n",
    "    print(f'Epoch {epoch:03d}, Loss: {loss:.4f}, Validation AUC: {val_auc:.4f}, AP: {val_ap:.4f}')\n"
   ]
  },
  {
   "cell_type": "code",
   "execution_count": 35,
   "id": "10060afa",
   "metadata": {},
   "outputs": [
    {
     "name": "stdout",
     "output_type": "stream",
     "text": [
      "Test AUC: 0.9115, AP: 0.9335\n"
     ]
    }
   ],
   "source": [
    "test_auc, test_ap = test(test_loader)\n",
    "print(f'Test AUC: {test_auc:.4f}, AP: {test_ap:.4f}')"
   ]
  },
  {
   "cell_type": "code",
   "execution_count": null,
   "id": "513ca6f1",
   "metadata": {},
   "outputs": [],
   "source": []
  }
 ],
 "metadata": {
  "kernelspec": {
   "display_name": "gnn_env",
   "language": "python",
   "name": "python3"
  },
  "language_info": {
   "codemirror_mode": {
    "name": "ipython",
    "version": 3
   },
   "file_extension": ".py",
   "mimetype": "text/x-python",
   "name": "python",
   "nbconvert_exporter": "python",
   "pygments_lexer": "ipython3",
   "version": "3.10.12"
  }
 },
 "nbformat": 4,
 "nbformat_minor": 5
}
