{
 "cells": [
  {
   "cell_type": "code",
   "execution_count": 43,
   "id": "071644cd",
   "metadata": {},
   "outputs": [],
   "source": [
    "import torch\n",
    "from torch.nn import Linear\n",
    "from torch_geometric.nn import MessagePassing, GAT, GATConv, Linear, to_hetero, HANConv\n",
    "from torch_geometric.utils import degree, add_self_loops\n",
    "from torch_geometric.data import HeteroData\n",
    "from torch_geometric.datasets import DBLP\n",
    "import torch_geometric.transforms as T\n",
    "from torch import nn\n",
    "from torch.nn import functional as F"
   ]
  },
  {
   "cell_type": "code",
   "execution_count": 9,
   "id": "a9b8bcbd",
   "metadata": {},
   "outputs": [
    {
     "data": {
      "text/plain": [
       "HeteroData(\n",
       "  user={ x=[3, 4] },\n",
       "  game={ x=[2, 2] },\n",
       "  dev={ x=[2, 1] },\n",
       "  (user, follows, user)={ edge_index=[2, 2] },\n",
       "  (user, plays, game)={\n",
       "    edge_index=[2, 4],\n",
       "    edge_attr=[4, 1],\n",
       "  },\n",
       "  (user, develops, game)={ edge_index=[2, 2] }\n",
       ")"
      ]
     },
     "execution_count": 9,
     "metadata": {},
     "output_type": "execute_result"
    }
   ],
   "source": [
    "data = HeteroData()\n",
    "data['user'].x = torch.Tensor([[1,1,1,1],[2,2,2,2],[3,3,3,3]])\n",
    "data['game'].x = torch.Tensor([[1,1],[2,2]])\n",
    "data['dev'].x = torch.Tensor([[1],[2]])\n",
    "\n",
    "data['user', 'follows', 'user'].edge_index = torch.tensor([[0, 1], [1, 2]])\n",
    "data['user', 'plays', 'game'].edge_index = torch.tensor([[0, 1,1 ,2], [0, 0, 1,1]])\n",
    "data['user', 'develops', 'game'].edge_index = torch.tensor([[0, 1], [0, 1]])\n",
    "\n",
    "data['user', 'plays', 'game'].edge_attr = torch.tensor([[2],[0.5] ,[10], [12]])\n",
    "data\n",
    "                              "
   ]
  },
  {
   "cell_type": "code",
   "execution_count": null,
   "id": "1f021091",
   "metadata": {},
   "outputs": [],
   "source": []
  },
  {
   "cell_type": "code",
   "execution_count": 38,
   "id": "40140df3",
   "metadata": {},
   "outputs": [
    {
     "name": "stdout",
     "output_type": "stream",
     "text": [
      "HeteroData(\n",
      "  metapath_dict={ (author, metapath_0, author)=[2] },\n",
      "  author={\n",
      "    x=[4057, 334],\n",
      "    y=[4057],\n",
      "    train_mask=[4057],\n",
      "    val_mask=[4057],\n",
      "    test_mask=[4057],\n",
      "  },\n",
      "  paper={ x=[14328, 4231] },\n",
      "  term={ x=[7723, 50] },\n",
      "  conference={ num_nodes=20 },\n",
      "  (author, metapath_0, author)={ edge_index=[2, 11113] }\n",
      ")\n"
     ]
    }
   ],
   "source": [
    "metapaths = [[('author','paper'), ('paper','author')]]\n",
    "transform = T.AddMetaPaths(metapaths, drop_orig_edge_types=True)\n",
    "DBLP_dataset = DBLP(root='../data/DBLP', transform=transform)\n",
    "data = DBLP_dataset[0]\n",
    "print(data)\n"
   ]
  },
  {
   "cell_type": "code",
   "execution_count": 41,
   "id": "0b0aa647",
   "metadata": {},
   "outputs": [
    {
     "name": "stdout",
     "output_type": "stream",
     "text": [
      "Epoch: 020, Loss: 1.2387, Train: 0.5150, Val: 0.4850\n",
      "Epoch: 040, Loss: 1.1202, Train: 0.6675, Val: 0.6375\n",
      "Epoch: 060, Loss: 1.0195, Train: 0.7575, Val: 0.7175\n",
      "Epoch: 080, Loss: 0.9355, Train: 0.7975, Val: 0.7350\n",
      "Epoch: 100, Loss: 0.8656, Train: 0.8250, Val: 0.7500\n",
      "Test: 0.7384\n"
     ]
    }
   ],
   "source": [
    "DBLP_dataset = DBLP(root='../data/DBLP', transform=transform)\n",
    "data = DBLP_dataset[0]\n",
    "\n",
    "model = GAT(in_channels=-1, out_channels=4,hidden_channels=64, num_layers=1)\n",
    "optimizer = torch.optim.Adam(model.parameters(), lr=0.001, weight_decay=0.001)\n",
    "device = torch.device('cuda' if torch.cuda.is_available() else 'cpu')\n",
    "model = model.to(device)\n",
    "data = data.to(device)\n",
    "\n",
    "\n",
    "@torch.no_grad()\n",
    "def test(mask):\n",
    "    model.eval()\n",
    "    optimizer.zero_grad()\n",
    "    out = model(data.x_dict['author'], data.edge_index_dict['author', 'metapath_0','author'])\n",
    "\n",
    "    pred = out.argmax(dim=-1)\n",
    "    acc = pred[mask].eq(data['author'].y[mask]).sum().item() / mask.sum().item()\n",
    "    return float(acc)\n",
    "\n",
    "for epoch in range(1, 101):\n",
    "    model.train()\n",
    "    optimizer.zero_grad()\n",
    "    out = model(data.x_dict['author'], data.edge_index_dict['author', 'metapath_0','author'])\n",
    "    mask = data['author'].train_mask\n",
    "    loss = F.cross_entropy(out[mask], data['author'].y[mask])\n",
    "    loss.backward()\n",
    "    optimizer.step()\n",
    "\n",
    "    if epoch % 20 == 0:\n",
    "        train_acc = test(data['author'].train_mask)\n",
    "        val_acc = test(data['author'].val_mask)\n",
    "        print(f'Epoch: {epoch:03d}, '\n",
    "              f'Loss: {loss:.4f}, '\n",
    "              f'Train: {train_acc:.4f}, '\n",
    "              f'Val: {val_acc:.4f}')\n",
    "\n",
    "test_acc = test(data['author'].test_mask)\n",
    "print(f'Test: {test_acc:.4f}')\n"
   ]
  },
  {
   "cell_type": "code",
   "execution_count": 45,
   "id": "49a286d0",
   "metadata": {},
   "outputs": [
    {
     "name": "stdout",
     "output_type": "stream",
     "text": [
      "Epoch: 020, Loss: 1.2371, Train: 0.8650, Val: 0.5275\n",
      "Epoch: 040, Loss: 0.9118, Train: 0.9675, Val: 0.7275\n",
      "Epoch: 060, Loss: 0.5449, Train: 0.9825, Val: 0.7675\n",
      "Epoch: 080, Loss: 0.2878, Train: 0.9925, Val: 0.7875\n",
      "Epoch: 100, Loss: 0.1645, Train: 1.0000, Val: 0.7650\n",
      "Test: 0.7961\n"
     ]
    }
   ],
   "source": [
    "DBLP_dataset = DBLP(root='../data/DBLP')\n",
    "data = DBLP_dataset[0]\n",
    "data['conference'].x = torch.zeros(20,1)\n",
    "class GAT_hetero(torch.nn.Module):\n",
    "    def __init__(self, dim_h, dim_out):\n",
    "        super(GAT_hetero, self).__init__()\n",
    "        self.conv = GATConv((-1,-1), dim_h, add_self_loops= False)\n",
    "        self.linear = nn.Linear(dim_h, dim_out)\n",
    "        \n",
    "    def forward(self, x, edge_index):\n",
    "        h = self.conv(x, edge_index).relu()\n",
    "        h = self.linear(h)\n",
    "        return h\n",
    "    \n",
    "model = GAT_hetero(64, 4)\n",
    "model = to_hetero(model, data.metadata(), aggr='sum')\n",
    "optimizer = torch.optim.Adam(model.parameters(), lr=0.001, weight_decay=0.001)\n",
    "device = torch.device('cuda' if torch.cuda.is_available() else 'cpu')\n",
    "data = data.to(device)\n",
    "model = model.to(device)\n",
    "@torch.no_grad()\n",
    "def test(mask):\n",
    "    model.eval()\n",
    "    optimizer.zero_grad()\n",
    "    out = model(data.x_dict, data.edge_index_dict)['author']\n",
    "    pred = out.argmax(dim=-1)\n",
    "    acc = pred[mask].eq(data['author'].y[mask]).sum().item() / mask.sum().item()\n",
    "    return float(acc)\n",
    "\n",
    "for epoch in range(1, 101):\n",
    "    model.train()\n",
    "    optimizer.zero_grad()\n",
    "    out = model(data.x_dict, data.edge_index_dict)['author']\n",
    "    mask = data['author'].train_mask\n",
    "    loss = F.cross_entropy(out[mask], data['author'].y[mask])\n",
    "    loss.backward()\n",
    "    optimizer.step()\n",
    "\n",
    "    if epoch % 20 == 0:\n",
    "        train_acc = test(data['author'].train_mask)\n",
    "        val_acc = test(data['author'].val_mask)\n",
    "        print(f'Epoch: {epoch:03d}, '\n",
    "              f'Loss: {loss:.4f}, '\n",
    "              f'Train: {train_acc:.4f}, '\n",
    "              f'Val: {val_acc:.4f}')\n",
    "test_acc = test(data['author'].test_mask)\n",
    "print(f'Test: {test_acc:.4f}')"
   ]
  },
  {
   "cell_type": "code",
   "execution_count": 48,
   "id": "ed59b632",
   "metadata": {},
   "outputs": [
    {
     "name": "stdout",
     "output_type": "stream",
     "text": [
      "Epoch: 020, Loss: 1.1620, Train: 0.9350, Val: 0.6875\n",
      "Epoch: 040, Loss: 0.7918, Train: 0.9650, Val: 0.7300\n",
      "Epoch: 060, Loss: 0.4677, Train: 0.9825, Val: 0.7875\n",
      "Epoch: 080, Loss: 0.3169, Train: 0.9925, Val: 0.7950\n",
      "Epoch: 100, Loss: 0.2120, Train: 0.9975, Val: 0.7925\n",
      "Test: 0.8176\n"
     ]
    }
   ],
   "source": [
    "DBLP_dataset = DBLP(root='../data/DBLP')\n",
    "data = DBLP_dataset[0]\n",
    "data['conference'].x = torch.zeros(20,1)\n",
    "class HAN(torch.nn.Module):\n",
    "    def __init__(self, dim_in,dim_h, dim_out, heads):\n",
    "        super(HAN, self).__init__()\n",
    "        self.han = HANConv(dim_in, dim_h, heads=heads, dropout=0.6, metadata = data.metadata())\n",
    "        self.linear = nn.Linear(dim_h, dim_out)\n",
    "        \n",
    "    def forward(self, x, edge_index):\n",
    "        out = self.han(x, edge_index)\n",
    "        out = self.linear(out['author'])\n",
    "        return out\n",
    "model = HAN(-1, 128, 4, heads=8)\n",
    "optimizer = torch.optim.Adam(model.parameters(), lr=0.001, weight_decay=0.001)\n",
    "device = torch.device('cuda' if torch.cuda.is_available() else 'cpu')\n",
    "data = data.to(device)\n",
    "model = model.to(device)\n",
    "@torch.no_grad()\n",
    "def test(mask):\n",
    "    model.eval()\n",
    "    optimizer.zero_grad()\n",
    "    out = model(data.x_dict, data.edge_index_dict)\n",
    "    pred = out.argmax(dim=-1)\n",
    "    acc = pred[mask].eq(data['author'].y[mask]).sum().item() / mask.sum().item()\n",
    "    return float(acc)\n",
    "for epoch in range(1, 101):\n",
    "    model.train()\n",
    "    optimizer.zero_grad()\n",
    "    out = model(data.x_dict, data.edge_index_dict)\n",
    "    mask = data['author'].train_mask\n",
    "    loss = F.cross_entropy(out[mask], data['author'].y[mask])\n",
    "    loss.backward()\n",
    "    optimizer.step()\n",
    "\n",
    "    if epoch % 20 == 0:\n",
    "        train_acc = test(data['author'].train_mask)\n",
    "        val_acc = test(data['author'].val_mask)\n",
    "        print(f'Epoch: {epoch:03d}, '\n",
    "              f'Loss: {loss:.4f}, '\n",
    "              f'Train: {train_acc:.4f}, '\n",
    "              f'Val: {val_acc:.4f}')\n",
    "test_acc = test(data['author'].test_mask)\n",
    "print(f'Test: {test_acc:.4f}')"
   ]
  },
  {
   "cell_type": "code",
   "execution_count": null,
   "id": "b61edd7f",
   "metadata": {},
   "outputs": [],
   "source": []
  }
 ],
 "metadata": {
  "kernelspec": {
   "display_name": "gnn_env",
   "language": "python",
   "name": "python3"
  },
  "language_info": {
   "codemirror_mode": {
    "name": "ipython",
    "version": 3
   },
   "file_extension": ".py",
   "mimetype": "text/x-python",
   "name": "python",
   "nbconvert_exporter": "python",
   "pygments_lexer": "ipython3",
   "version": "3.10.12"
  }
 },
 "nbformat": 4,
 "nbformat_minor": 5
}
