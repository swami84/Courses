{
 "cells": [
  {
   "cell_type": "code",
   "execution_count": 1,
   "metadata": {},
   "outputs": [],
   "source": [
    "from torch_geometric.datasets import Planetoid"
   ]
  },
  {
   "cell_type": "code",
   "execution_count": 5,
   "metadata": {},
   "outputs": [
    {
     "name": "stderr",
     "output_type": "stream",
     "text": [
      "Downloading https://github.com/kimiyoung/planetoid/raw/master/data/ind.cora.x\n",
      "Downloading https://github.com/kimiyoung/planetoid/raw/master/data/ind.cora.tx\n",
      "Downloading https://github.com/kimiyoung/planetoid/raw/master/data/ind.cora.allx\n",
      "Downloading https://github.com/kimiyoung/planetoid/raw/master/data/ind.cora.y\n",
      "Downloading https://github.com/kimiyoung/planetoid/raw/master/data/ind.cora.ty\n",
      "Downloading https://github.com/kimiyoung/planetoid/raw/master/data/ind.cora.ally\n",
      "Downloading https://github.com/kimiyoung/planetoid/raw/master/data/ind.cora.graph\n",
      "Downloading https://github.com/kimiyoung/planetoid/raw/master/data/ind.cora.test.index\n",
      "Processing...\n",
      "Done!\n"
     ]
    }
   ],
   "source": [
    "dataset = Planetoid(root='../data/Cora/', name='Cora')"
   ]
  },
  {
   "cell_type": "code",
   "execution_count": 7,
   "metadata": {},
   "outputs": [
    {
     "name": "stdout",
     "output_type": "stream",
     "text": [
      "Dataset: Cora\n",
      "Number of graphs: 1\n",
      "Number of Nodes: 2708\n",
      "Number of features:  1433\n",
      "Number of classes:  7\n"
     ]
    }
   ],
   "source": [
    "data = dataset[0]\n",
    "print(f'Dataset: {dataset.name}')\n",
    "print(f'Number of graphs: {len(dataset)}')\n",
    "print(f'Number of Nodes: {data.x.shape[0]}')\n",
    "print('Number of features: ', dataset.num_features)\n",
    "print('Number of classes: ', dataset.num_classes)"
   ]
  },
  {
   "cell_type": "code",
   "execution_count": 8,
   "metadata": {},
   "outputs": [
    {
     "name": "stdout",
     "output_type": "stream",
     "text": [
      "Graph:\n",
      "Are edges directed: False\n",
      "Graph Has Isolated Nodes: False\n",
      "Graph has loops: False\n"
     ]
    }
   ],
   "source": [
    "print('Graph:')\n",
    "print(f'Are edges directed: {data.is_directed()}')\n",
    "print(f'Graph Has Isolated Nodes: {data.has_isolated_nodes()}')\n",
    "print(f'Graph has loops: {data.has_self_loops()}')"
   ]
  },
  {
   "cell_type": "code",
   "execution_count": 11,
   "metadata": {},
   "outputs": [
    {
     "name": "stdout",
     "output_type": "stream",
     "text": [
      "Dataset: FacebookPagePage()\n",
      "Number of graphs: 1\n",
      "Number of Nodes: 22470\n",
      "Number of features:  128\n",
      "Number of classes:  4\n"
     ]
    }
   ],
   "source": [
    "from torch_geometric.datasets import FacebookPagePage\n",
    "dataset = FacebookPagePage(root='../data/FacebookPagePage/')\n",
    "data = dataset[0]\n",
    "print(f'Dataset: {dataset}')\n",
    "print(f'Number of graphs: {len(dataset)}')\n",
    "print(f'Number of Nodes: {data.x.shape[0]}')\n",
    "print('Number of features: ', dataset.num_features)\n",
    "print('Number of classes: ', dataset.num_classes)\n"
   ]
  },
  {
   "cell_type": "code",
   "execution_count": 12,
   "metadata": {},
   "outputs": [
    {
     "name": "stdout",
     "output_type": "stream",
     "text": [
      "Graph:\n",
      "Are edges directed: False\n",
      "Graph Has Isolated Nodes: False\n",
      "Graph has loops: True\n"
     ]
    }
   ],
   "source": [
    "print('Graph:')\n",
    "print(f'Are edges directed: {data.is_directed()}')\n",
    "print(f'Graph Has Isolated Nodes: {data.has_isolated_nodes()}')\n",
    "print(f'Graph has loops: {data.has_self_loops()}')"
   ]
  },
  {
   "cell_type": "code",
   "execution_count": null,
   "metadata": {},
   "outputs": [],
   "source": []
  }
 ],
 "metadata": {
  "kernelspec": {
   "display_name": "gnn_env",
   "language": "python",
   "name": "python3"
  },
  "language_info": {
   "codemirror_mode": {
    "name": "ipython",
    "version": 3
   },
   "file_extension": ".py",
   "mimetype": "text/x-python",
   "name": "python",
   "nbconvert_exporter": "python",
   "pygments_lexer": "ipython3",
   "version": "3.10.12"
  }
 },
 "nbformat": 4,
 "nbformat_minor": 2
}
